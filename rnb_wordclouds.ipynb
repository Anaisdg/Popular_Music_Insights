{
 "cells": [
  {
   "cell_type": "code",
   "execution_count": null,
   "metadata": {
    "collapsed": true
   },
   "outputs": [],
   "source": [
    "from bs4 import BeautifulSoup\n",
    "import urllib \n",
    "import re \n",
    "import pandas as pd \n",
    "from IPython.core.display import display, HTML \n",
    "from wordcloud import WordCloud # to plot wordclouds \n",
    "import matplotlib.pyplot as plt\n",
    "from urllib.request import urlopen\n",
    "\n",
    "plt.style.use('ggplot')\n",
    "%matplotlib inline\n",
    "\n",
    "\n",
    "df_songs = pd.read_csv(\"billboard.csv\",encoding= 'utf-8')\n",
    "df_pop =df_songs.drop(['Pop','Country'], axis=1)\n",
    "\n",
    "#df_pop.to_csv(\"songs_list.csv\")\n",
    "\n",
    "df_artists = pd.read_csv(\"artist_combined.csv\",encoding= 'utf-8')\n",
    "songs_list = list(df_songs.RnB)\n",
    "year_list = list(df_songs.Year)\n",
    "artists_list = list(df_artists.RnB)\n",
    "combo =[]\n",
    "\n",
    "for i in range(len(songs_list)):\n",
    "    combo.append(f\"{artists_list[i]}:{songs_list[i]}\".replace('\\xa0',' '))\n",
    "    \n",
    "lyric_dict = {}\n",
    "\n",
    "for item in combo:\n",
    "    url_search = ('http://lyrics.wikia.com/wiki/Special:Search?query='+ item)\n",
    "    \n",
    "    site = urlopen(url_search.replace(' ', '+')).read()\n",
    "    soup = BeautifulSoup(site)\n",
    "    links = []\n",
    "    \n",
    "    for link in soup.find_all(\"a\", class_='result-link'):\n",
    "        try:\n",
    "            if link.get('href') != None:\n",
    "                links.append(link.get('href'))                \n",
    "                print ('Getting lyrics from...', links[0])\n",
    "        \n",
    "            song_url = links[0]\n",
    "            print(song_url)        \n",
    "        except:\n",
    "            pass\n",
    "    \n",
    "    try:\n",
    "        site = urlopen(song_url).read()\n",
    "        soup = BeautifulSoup(site)\n",
    "        lyric = soup.find_all(\"div\", class_=\"lyricbox\")\n",
    "\n",
    "        if len(lyric) > 0:\n",
    "            for element in lyric:\n",
    "                lyric_dict[item] = re.sub(\"([a-z])([A-Z])\",\"\\g<1> \\g<2>\", BeautifulSoup(str(element).replace('<br/>',' ')).get_text())\n",
    "\n",
    "                print (re.sub(\"([a-z])([A-Z])\",\"\\g<1> \\g<2>\", BeautifulSoup(str(element).replace('<br/>',' ')).get_text()))\n",
    "    except:\n",
    "        pass"
   ]
  },
  {
   "cell_type": "code",
   "execution_count": null,
   "metadata": {
    "collapsed": true
   },
   "outputs": [],
   "source": [
    "# Account for missing lyrics\n",
    "year_list =list(df_songs.Year)\n",
    "year_list.pop(69)\n",
    "year_list.pop(63)\n",
    "year_list.pop(55)\n",
    "year_list.pop(23)\n",
    "year_list.pop(0)"
   ]
  },
  {
   "cell_type": "code",
   "execution_count": null,
   "metadata": {
    "collapsed": true
   },
   "outputs": [],
   "source": [
    "def plot_word_cloud(song_name,corpus, max_words = 42, width=600, height=400, fig_size=(8,6)):\n",
    "    try:\n",
    "        if len(corpus) == 0:\n",
    "            corpus = 'no words'\n",
    "        wordcloud = WordCloud(max_words = max_words, width=width, height=height, background_color=\"black\").generate(corpus)\n",
    "        plt.figure(figsize=fig_size, dpi=80, facecolor = 'black',edgecolor=\"black\")\n",
    "        plt.imshow(wordcloud, interpolation='bilinear')\n",
    "        plt.axis(\"off\")\n",
    "        plt.title(str(year_list.pop(0)) + \" : \" + artist_name+\"\\n\" + \"'\"+song_name+ \"'\", color='white',backgroundcolor ='black')\n",
    "        plt.savefig(song_name + \".jpg\",bbox_inches='tight', pad_inches = 0)        \n",
    "        plt.show()\n",
    "        return\n",
    "    except:\n",
    "        pass\n",
    "    return\n",
    "    \n",
    "for tune in lyric_dict:\n",
    "    artist_name,song_name=tune.split(\":\")\n",
    "    plot_word_cloud(song_name,str(lyric_dict[tune]).lower(), max_words=50, width=400, height=250)"
   ]
  }
 ],
 "metadata": {
  "kernelspec": {
   "display_name": "Python 3",
   "language": "python",
   "name": "python3"
  },
  "language_info": {
   "codemirror_mode": {
    "name": "ipython",
    "version": 3
   },
   "file_extension": ".py",
   "mimetype": "text/x-python",
   "name": "python",
   "nbconvert_exporter": "python",
   "pygments_lexer": "ipython3",
   "version": "3.6.2"
  }
 },
 "nbformat": 4,
 "nbformat_minor": 2
}
