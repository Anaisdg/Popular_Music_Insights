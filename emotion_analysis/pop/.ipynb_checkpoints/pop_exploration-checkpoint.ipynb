{
 "cells": [
  {
   "cell_type": "code",
   "execution_count": 63,
   "metadata": {},
   "outputs": [],
   "source": [
    "import pandas as pd \n",
    "import json\n",
    "import matplotlib.pyplot as plt \n",
    "import numpy as np "
   ]
  },
  {
   "cell_type": "code",
   "execution_count": 4,
   "metadata": {},
   "outputs": [],
   "source": [
    "with open('pop_lyr_results/one_pop_results.json') as json_data:\n",
    "    one = json.load(json_data)"
   ]
  },
  {
   "cell_type": "code",
   "execution_count": 5,
   "metadata": {
    "collapsed": true
   },
   "outputs": [],
   "source": [
    "with open('pop_lyr_results/two_pop_results.json') as json_data:\n",
    "    two = json.load(json_data)"
   ]
  },
  {
   "cell_type": "code",
   "execution_count": 6,
   "metadata": {
    "collapsed": true
   },
   "outputs": [],
   "source": [
    "with open('pop_lyr_results/three_pop_results.json') as json_data:\n",
    "    three = json.load(json_data)"
   ]
  },
  {
   "cell_type": "code",
   "execution_count": 7,
   "metadata": {
    "collapsed": true
   },
   "outputs": [],
   "source": [
    "with open('pop_lyr_results/four_pop_results.json') as json_data:\n",
    "    four = json.load(json_data)"
   ]
  },
  {
   "cell_type": "code",
   "execution_count": 8,
   "metadata": {
    "collapsed": true
   },
   "outputs": [],
   "source": [
    "with open('pop_lyr_results/five_pop_results.json') as json_data:\n",
    "    five = json.load(json_data)"
   ]
  },
  {
   "cell_type": "code",
   "execution_count": 9,
   "metadata": {
    "collapsed": true
   },
   "outputs": [],
   "source": [
    "with open('pop_lyr_results/six_pop_results.json') as json_data:\n",
    "    six = json.load(json_data)"
   ]
  },
  {
   "cell_type": "code",
   "execution_count": 10,
   "metadata": {
    "collapsed": true
   },
   "outputs": [],
   "source": [
    "with open('pop_lyr_results/seven_pop_results.json') as json_data:\n",
    "    seven = json.load(json_data)"
   ]
  },
  {
   "cell_type": "code",
   "execution_count": 253,
   "metadata": {},
   "outputs": [
    {
     "data": {
      "text/html": [
       "<div>\n",
       "<style scoped>\n",
       "    .dataframe tbody tr th:only-of-type {\n",
       "        vertical-align: middle;\n",
       "    }\n",
       "\n",
       "    .dataframe tbody tr th {\n",
       "        vertical-align: top;\n",
       "    }\n",
       "\n",
       "    .dataframe thead th {\n",
       "        text-align: right;\n",
       "    }\n",
       "</style>\n",
       "<table border=\"1\" class=\"dataframe\">\n",
       "  <thead>\n",
       "    <tr style=\"text-align: right;\">\n",
       "      <th></th>\n",
       "      <th>category</th>\n",
       "      <th>children</th>\n",
       "      <th>name</th>\n",
       "      <th>percentile</th>\n",
       "      <th>raw_score</th>\n",
       "      <th>significant</th>\n",
       "      <th>trait_id</th>\n",
       "    </tr>\n",
       "  </thead>\n",
       "  <tbody>\n",
       "    <tr>\n",
       "      <th>0</th>\n",
       "      <td>personality</td>\n",
       "      <td>[{'trait_id': 'facet_adventurousness', 'name':...</td>\n",
       "      <td>Openness</td>\n",
       "      <td>0.666105</td>\n",
       "      <td>0.762354</td>\n",
       "      <td>True</td>\n",
       "      <td>big5_openness</td>\n",
       "    </tr>\n",
       "    <tr>\n",
       "      <th>1</th>\n",
       "      <td>personality</td>\n",
       "      <td>[{'trait_id': 'facet_achievement_striving', 'n...</td>\n",
       "      <td>Conscientiousness</td>\n",
       "      <td>0.223690</td>\n",
       "      <td>0.592614</td>\n",
       "      <td>True</td>\n",
       "      <td>big5_conscientiousness</td>\n",
       "    </tr>\n",
       "    <tr>\n",
       "      <th>2</th>\n",
       "      <td>personality</td>\n",
       "      <td>[{'trait_id': 'facet_activity_level', 'name': ...</td>\n",
       "      <td>Extraversion</td>\n",
       "      <td>0.223258</td>\n",
       "      <td>0.517037</td>\n",
       "      <td>True</td>\n",
       "      <td>big5_extraversion</td>\n",
       "    </tr>\n",
       "    <tr>\n",
       "      <th>3</th>\n",
       "      <td>personality</td>\n",
       "      <td>[{'trait_id': 'facet_altruism', 'name': 'Altru...</td>\n",
       "      <td>Agreeableness</td>\n",
       "      <td>0.959440</td>\n",
       "      <td>0.811539</td>\n",
       "      <td>True</td>\n",
       "      <td>big5_agreeableness</td>\n",
       "    </tr>\n",
       "    <tr>\n",
       "      <th>4</th>\n",
       "      <td>personality</td>\n",
       "      <td>[{'trait_id': 'facet_anger', 'name': 'Fiery', ...</td>\n",
       "      <td>Emotional range</td>\n",
       "      <td>0.228898</td>\n",
       "      <td>0.425511</td>\n",
       "      <td>True</td>\n",
       "      <td>big5_neuroticism</td>\n",
       "    </tr>\n",
       "  </tbody>\n",
       "</table>\n",
       "</div>"
      ],
      "text/plain": [
       "      category                                           children  \\\n",
       "0  personality  [{'trait_id': 'facet_adventurousness', 'name':...   \n",
       "1  personality  [{'trait_id': 'facet_achievement_striving', 'n...   \n",
       "2  personality  [{'trait_id': 'facet_activity_level', 'name': ...   \n",
       "3  personality  [{'trait_id': 'facet_altruism', 'name': 'Altru...   \n",
       "4  personality  [{'trait_id': 'facet_anger', 'name': 'Fiery', ...   \n",
       "\n",
       "                name  percentile  raw_score  significant  \\\n",
       "0           Openness    0.666105   0.762354         True   \n",
       "1  Conscientiousness    0.223690   0.592614         True   \n",
       "2       Extraversion    0.223258   0.517037         True   \n",
       "3      Agreeableness    0.959440   0.811539         True   \n",
       "4    Emotional range    0.228898   0.425511         True   \n",
       "\n",
       "                 trait_id  \n",
       "0           big5_openness  \n",
       "1  big5_conscientiousness  \n",
       "2       big5_extraversion  \n",
       "3      big5_agreeableness  \n",
       "4        big5_neuroticism  "
      ]
     },
     "execution_count": 253,
     "metadata": {},
     "output_type": "execute_result"
    }
   ],
   "source": [
    "one_personality = pd.DataFrame(one[\"personality\"])\n",
    "one_personality"
   ]
  },
  {
   "cell_type": "code",
   "execution_count": 20,
   "metadata": {},
   "outputs": [],
   "source": [
    "two_personality = pd.DataFrame(two[\"personality\"])"
   ]
  },
  {
   "cell_type": "code",
   "execution_count": 22,
   "metadata": {},
   "outputs": [],
   "source": [
    "three_personality = pd.DataFrame(three[\"personality\"])"
   ]
  },
  {
   "cell_type": "code",
   "execution_count": 23,
   "metadata": {
    "collapsed": true
   },
   "outputs": [],
   "source": [
    "four_personality = pd.DataFrame(four[\"personality\"])"
   ]
  },
  {
   "cell_type": "code",
   "execution_count": 24,
   "metadata": {
    "collapsed": true
   },
   "outputs": [],
   "source": [
    "five_personality = pd.DataFrame(five[\"personality\"])"
   ]
  },
  {
   "cell_type": "code",
   "execution_count": 25,
   "metadata": {
    "collapsed": true
   },
   "outputs": [],
   "source": [
    "six_personality = pd.DataFrame(six[\"personality\"])"
   ]
  },
  {
   "cell_type": "code",
   "execution_count": 39,
   "metadata": {},
   "outputs": [],
   "source": [
    "seven_personality = pd.DataFrame(seven[\"personality\"])"
   ]
  },
  {
   "cell_type": "code",
   "execution_count": 49,
   "metadata": {},
   "outputs": [],
   "source": [
    "df1 = one_personality[[\"name\",\"percentile\"]]"
   ]
  },
  {
   "cell_type": "code",
   "execution_count": 50,
   "metadata": {
    "collapsed": true
   },
   "outputs": [],
   "source": [
    "df2 = two_personality[[\"name\",\"percentile\"]]"
   ]
  },
  {
   "cell_type": "code",
   "execution_count": 51,
   "metadata": {
    "collapsed": true
   },
   "outputs": [],
   "source": [
    "df3 = three_personality[[\"name\",\"percentile\"]]"
   ]
  },
  {
   "cell_type": "code",
   "execution_count": 52,
   "metadata": {},
   "outputs": [],
   "source": [
    "df4 = four_personality[[\"name\",\"percentile\"]]"
   ]
  },
  {
   "cell_type": "code",
   "execution_count": 53,
   "metadata": {
    "collapsed": true
   },
   "outputs": [],
   "source": [
    "df5 = five_personality[[\"name\",\"percentile\"]]"
   ]
  },
  {
   "cell_type": "code",
   "execution_count": 54,
   "metadata": {
    "collapsed": true
   },
   "outputs": [],
   "source": [
    "df6 = six_personality[[\"name\",\"percentile\"]]"
   ]
  },
  {
   "cell_type": "code",
   "execution_count": 55,
   "metadata": {
    "collapsed": true
   },
   "outputs": [],
   "source": [
    "df7 = seven_personality[[\"name\",\"percentile\"]]"
   ]
  },
  {
   "cell_type": "code",
   "execution_count": 60,
   "metadata": {},
   "outputs": [],
   "source": [
    "combined_scores_df = df1.merge(df2,on='name').merge(df3,on='name').merge(df4,on='name').merge(df5,on='name').merge(df6,on='name').merge(df7,on='name')"
   ]
  },
  {
   "cell_type": "code",
   "execution_count": 61,
   "metadata": {},
   "outputs": [
    {
     "data": {
      "text/html": [
       "<div>\n",
       "<style scoped>\n",
       "    .dataframe tbody tr th:only-of-type {\n",
       "        vertical-align: middle;\n",
       "    }\n",
       "\n",
       "    .dataframe tbody tr th {\n",
       "        vertical-align: top;\n",
       "    }\n",
       "\n",
       "    .dataframe thead th {\n",
       "        text-align: right;\n",
       "    }\n",
       "</style>\n",
       "<table border=\"1\" class=\"dataframe\">\n",
       "  <thead>\n",
       "    <tr style=\"text-align: right;\">\n",
       "      <th></th>\n",
       "      <th>name</th>\n",
       "      <th>percentile_x</th>\n",
       "      <th>percentile_y</th>\n",
       "      <th>percentile_x</th>\n",
       "      <th>percentile_y</th>\n",
       "      <th>percentile_x</th>\n",
       "      <th>percentile_y</th>\n",
       "      <th>percentile</th>\n",
       "    </tr>\n",
       "  </thead>\n",
       "  <tbody>\n",
       "    <tr>\n",
       "      <th>0</th>\n",
       "      <td>Openness</td>\n",
       "      <td>0.666105</td>\n",
       "      <td>0.884141</td>\n",
       "      <td>0.891219</td>\n",
       "      <td>0.576831</td>\n",
       "      <td>0.412710</td>\n",
       "      <td>0.458436</td>\n",
       "      <td>0.615390</td>\n",
       "    </tr>\n",
       "    <tr>\n",
       "      <th>1</th>\n",
       "      <td>Conscientiousness</td>\n",
       "      <td>0.223690</td>\n",
       "      <td>0.351397</td>\n",
       "      <td>0.868646</td>\n",
       "      <td>0.643681</td>\n",
       "      <td>0.818852</td>\n",
       "      <td>0.648523</td>\n",
       "      <td>0.833320</td>\n",
       "    </tr>\n",
       "    <tr>\n",
       "      <th>2</th>\n",
       "      <td>Extraversion</td>\n",
       "      <td>0.223258</td>\n",
       "      <td>0.494826</td>\n",
       "      <td>0.910728</td>\n",
       "      <td>0.835595</td>\n",
       "      <td>0.551050</td>\n",
       "      <td>0.441434</td>\n",
       "      <td>0.977951</td>\n",
       "    </tr>\n",
       "    <tr>\n",
       "      <th>3</th>\n",
       "      <td>Agreeableness</td>\n",
       "      <td>0.959440</td>\n",
       "      <td>0.563526</td>\n",
       "      <td>0.996069</td>\n",
       "      <td>0.922933</td>\n",
       "      <td>0.895823</td>\n",
       "      <td>0.865537</td>\n",
       "      <td>0.897116</td>\n",
       "    </tr>\n",
       "    <tr>\n",
       "      <th>4</th>\n",
       "      <td>Emotional range</td>\n",
       "      <td>0.228898</td>\n",
       "      <td>0.452872</td>\n",
       "      <td>0.664031</td>\n",
       "      <td>0.358765</td>\n",
       "      <td>0.396121</td>\n",
       "      <td>0.295176</td>\n",
       "      <td>0.755327</td>\n",
       "    </tr>\n",
       "  </tbody>\n",
       "</table>\n",
       "</div>"
      ],
      "text/plain": [
       "                name  percentile_x  percentile_y  percentile_x  percentile_y  \\\n",
       "0           Openness      0.666105      0.884141      0.891219      0.576831   \n",
       "1  Conscientiousness      0.223690      0.351397      0.868646      0.643681   \n",
       "2       Extraversion      0.223258      0.494826      0.910728      0.835595   \n",
       "3      Agreeableness      0.959440      0.563526      0.996069      0.922933   \n",
       "4    Emotional range      0.228898      0.452872      0.664031      0.358765   \n",
       "\n",
       "   percentile_x  percentile_y  percentile  \n",
       "0      0.412710      0.458436    0.615390  \n",
       "1      0.818852      0.648523    0.833320  \n",
       "2      0.551050      0.441434    0.977951  \n",
       "3      0.895823      0.865537    0.897116  \n",
       "4      0.396121      0.295176    0.755327  "
      ]
     },
     "execution_count": 61,
     "metadata": {},
     "output_type": "execute_result"
    }
   ],
   "source": [
    "combined_scores_df"
   ]
  },
  {
   "cell_type": "code",
   "execution_count": 209,
   "metadata": {},
   "outputs": [
    {
     "data": {
      "text/html": [
       "<div>\n",
       "<style scoped>\n",
       "    .dataframe tbody tr th:only-of-type {\n",
       "        vertical-align: middle;\n",
       "    }\n",
       "\n",
       "    .dataframe tbody tr th {\n",
       "        vertical-align: top;\n",
       "    }\n",
       "\n",
       "    .dataframe thead th {\n",
       "        text-align: right;\n",
       "    }\n",
       "</style>\n",
       "<table border=\"1\" class=\"dataframe\">\n",
       "  <thead>\n",
       "    <tr style=\"text-align: right;\">\n",
       "      <th></th>\n",
       "      <th>percentile_x</th>\n",
       "      <th>percentile_y</th>\n",
       "      <th>percentile_x</th>\n",
       "      <th>percentile_y</th>\n",
       "      <th>percentile_x</th>\n",
       "      <th>percentile_y</th>\n",
       "      <th>percentile</th>\n",
       "    </tr>\n",
       "  </thead>\n",
       "  <tbody>\n",
       "    <tr>\n",
       "      <th>0</th>\n",
       "      <td>0.666105</td>\n",
       "      <td>0.884141</td>\n",
       "      <td>0.891219</td>\n",
       "      <td>0.576831</td>\n",
       "      <td>0.412710</td>\n",
       "      <td>0.458436</td>\n",
       "      <td>0.615390</td>\n",
       "    </tr>\n",
       "    <tr>\n",
       "      <th>1</th>\n",
       "      <td>0.223690</td>\n",
       "      <td>0.351397</td>\n",
       "      <td>0.868646</td>\n",
       "      <td>0.643681</td>\n",
       "      <td>0.818852</td>\n",
       "      <td>0.648523</td>\n",
       "      <td>0.833320</td>\n",
       "    </tr>\n",
       "    <tr>\n",
       "      <th>2</th>\n",
       "      <td>0.223258</td>\n",
       "      <td>0.494826</td>\n",
       "      <td>0.910728</td>\n",
       "      <td>0.835595</td>\n",
       "      <td>0.551050</td>\n",
       "      <td>0.441434</td>\n",
       "      <td>0.977951</td>\n",
       "    </tr>\n",
       "    <tr>\n",
       "      <th>3</th>\n",
       "      <td>0.959440</td>\n",
       "      <td>0.563526</td>\n",
       "      <td>0.996069</td>\n",
       "      <td>0.922933</td>\n",
       "      <td>0.895823</td>\n",
       "      <td>0.865537</td>\n",
       "      <td>0.897116</td>\n",
       "    </tr>\n",
       "    <tr>\n",
       "      <th>4</th>\n",
       "      <td>0.228898</td>\n",
       "      <td>0.452872</td>\n",
       "      <td>0.664031</td>\n",
       "      <td>0.358765</td>\n",
       "      <td>0.396121</td>\n",
       "      <td>0.295176</td>\n",
       "      <td>0.755327</td>\n",
       "    </tr>\n",
       "  </tbody>\n",
       "</table>\n",
       "</div>"
      ],
      "text/plain": [
       "   percentile_x  percentile_y  percentile_x  percentile_y  percentile_x  \\\n",
       "0      0.666105      0.884141      0.891219      0.576831      0.412710   \n",
       "1      0.223690      0.351397      0.868646      0.643681      0.818852   \n",
       "2      0.223258      0.494826      0.910728      0.835595      0.551050   \n",
       "3      0.959440      0.563526      0.996069      0.922933      0.895823   \n",
       "4      0.228898      0.452872      0.664031      0.358765      0.396121   \n",
       "\n",
       "   percentile_y  percentile  \n",
       "0      0.458436    0.615390  \n",
       "1      0.648523    0.833320  \n",
       "2      0.441434    0.977951  \n",
       "3      0.865537    0.897116  \n",
       "4      0.295176    0.755327  "
      ]
     },
     "execution_count": 209,
     "metadata": {},
     "output_type": "execute_result"
    }
   ],
   "source": [
    "values = combined_scores_df.drop('name', axis=1)\n",
    "values"
   ]
  },
  {
   "cell_type": "code",
   "execution_count": 263,
   "metadata": {},
   "outputs": [],
   "source": [
    "timepoint = [1957,1967,1977,1987,1997,2007,2017]\n",
    "length = np.arange(0,len(values),1)\n",
    "labels = [\"Openness\",\n",
    "          \"Consienctiousness\",\n",
    "          \"Extraversion\",\n",
    "          \"Aggreeableness\",\n",
    "          \"Emotional range\"]\n",
    "\n",
    "percentile=[]\n",
    "\n",
    "for row in values.iterrows():\n",
    "    index, data = row\n",
    "    percentile.append(data.tolist())\n"
   ]
  },
  {
   "cell_type": "code",
   "execution_count": 264,
   "metadata": {},
   "outputs": [
    {
     "data": {
      "image/png": "[encoded data removed]",
      "text/plain": [
       "<matplotlib.figure.Figure at 0x10d422438>"
      ]
     },
     "metadata": {},
     "output_type": "display_data"
    }
   ],
   "source": [
    "plt.figure(figsize=(10,10))\n",
    "[plt.scatter(timepoint, percentile[x]) for x in length]\n",
    "plt.legend(loc='upper left', shadow=True)\n",
    "[plt.plot(timepoint, percentile[x], linestyle= 'dashed', linewidth=1, label = labels[x]) for x in length]\n",
    "plt.title(\"Emotional Response over Time\")\n",
    "plt.xlabel(\"Time\")\n",
    "plt.ylabel(\"Percentile Score\")\n",
    "plt.legend(loc='best')\n",
    "plt.grid()\n",
    "plt.show()"
   ]
  },
  {
   "cell_type": "code",
   "execution_count": 256,
   "metadata": {},
   "outputs": [
    {
     "data": {
      "text/plain": [
       "[0.9594401084781228,\n",
       " 0.5635255405809276,\n",
       " 0.9960690354847126,\n",
       " 0.9229330897390791,\n",
       " 0.8958228970334778,\n",
       " 0.8655371903945053,\n",
       " 0.8971163676055802]"
      ]
     },
     "execution_count": 256,
     "metadata": {},
     "output_type": "execute_result"
    }
   ],
   "source": [
    "timepoint = [1947,1957,1967,1987,1997,2007,2017]\n",
    "length = np.arange(0,len(values),1)\n",
    "labels = [\"Openness\",\n",
    "          \"Consienctiousness\",\n",
    "          \"Extraversion\",\n",
    "          \"Aggreeableness\",\n",
    "          \"Emotional range\"]\n",
    "\n",
    "percentile=[]\n",
    "\n",
    "for row in values.iterrows():\n",
    "    index, data = row\n",
    "    percentile.append(data.tolist())\n",
    "\n"
   ]
  },
  {
   "cell_type": "code",
   "execution_count": 257,
   "metadata": {},
   "outputs": [
    {
     "data": {
      "text/plain": [
       "7"
      ]
     },
     "execution_count": 257,
     "metadata": {},
     "output_type": "execute_result"
    }
   ],
   "source": [
    "len(percentile[0])"
   ]
  },
  {
   "cell_type": "code",
   "execution_count": 258,
   "metadata": {},
   "outputs": [
    {
     "data": {
      "text/plain": [
       "7"
      ]
     },
     "execution_count": 258,
     "metadata": {},
     "output_type": "execute_result"
    }
   ],
   "source": [
    "len(timepoint)"
   ]
  },
  {
   "cell_type": "code",
   "execution_count": null,
   "metadata": {
    "collapsed": true
   },
   "outputs": [],
   "source": []
  }
 ],
 "metadata": {
  "kernelspec": {
   "display_name": "Python 3",
   "language": "python",
   "name": "python3"
  },
  "language_info": {
   "codemirror_mode": {
    "name": "ipython",
    "version": 3
   },
   "file_extension": ".py",
   "mimetype": "text/x-python",
   "name": "python",
   "nbconvert_exporter": "python",
   "pygments_lexer": "ipython3",
   "version": "3.6.2"
  }
 },
 "nbformat": 4,
 "nbformat_minor": 2
}
